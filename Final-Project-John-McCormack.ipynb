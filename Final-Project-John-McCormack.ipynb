{
 "cells": [
  {
   "cell_type": "markdown",
   "id": "42b4b85a",
   "metadata": {},
   "source": [
    "# YouTube Channel Performance Analysis"
   ]
  },
  {
   "cell_type": "markdown",
   "id": "1f9a261e",
   "metadata": {},
   "source": [
    "## Question\n",
    "\n",
    "How do music channels of different genre and subscriber sizes compare  with respect to building audience and viewer engagement on YouTube?\n",
    "\n",
    "## Goal\n",
    "\n",
    "Identify high-performing channel types and related trends that can be applied to other in-network channels and can be used to help inform broader YouTube content and A&R strategy"
   ]
  },
  {
   "cell_type": "markdown",
   "id": "1874784b",
   "metadata": {},
   "source": [
    "## Import Libraries, API Authentication & Call Set-up and Data Merge"
   ]
  },
  {
   "cell_type": "markdown",
   "id": "7884bde1",
   "metadata": {},
   "source": [
    "Objectives:\n",
    "- Import required libraries and write functions for YouTube API and Snowflake calls \n",
    "- From full channel data set via Snowflake, create randomized sample data set of 500 channels across 7 different genres\n",
    "- Pull back channel subscriber totals via YouTube Data API and channel performance and engagement metrics via YouTube Analytics API\n",
    "- Merge various data sets to allow for data analysis"
   ]
  },
  {
   "cell_type": "code",
   "execution_count": 1,
   "id": "3f9b03b7",
   "metadata": {},
   "outputs": [],
   "source": [
    "# import required libraries\n",
    "import os\n",
    "import pickle\n",
    "import pandas as pd\n",
    "import numpy as np\n",
    "import matplotlib.pyplot as plt\n",
    "from google_auth_oauthlib.flow import InstalledAppFlow\n",
    "from google.auth.transport.requests import Request\n",
    "from googleapiclient.discovery import build\n",
    "import csv\n",
    "from sqlalchemy import create_engine\n",
    "import configparser\n",
    "from sqlalchemy.dialects import registry"
   ]
  },
  {
   "cell_type": "code",
   "execution_count": 2,
   "id": "e7928d61",
   "metadata": {},
   "outputs": [],
   "source": [
    "# function to authorize and pull back youtube api credentials\n",
    "def youtube_authorization():\n",
    "    credentials = None\n",
    "    # Token.pickle stores the user's credentials from previously successful logins\n",
    "    if os.path.exists('token.pickle'):\n",
    "        print('Loading Credentials From File...')\n",
    "        with open('token.pickle', 'rb') as token:\n",
    "            credentials = pickle.load(token)\n",
    "    if not credentials or not credentials.valid:\n",
    "        if credentials and credentials.expired and credentials.refresh_token:\n",
    "            print('Refreshing Access Token..')\n",
    "            credentials.refresh(Request())\n",
    "        else:\n",
    "            print('Fetching New tokens...')\n",
    "            flow = InstalledAppFlow.from_client_secrets_file(\n",
    "                'client_secrets.json',\n",
    "                scopes=['https://www.googleapis.com/auth/youtube.readonly',\n",
    "                        'https://www.googleapis.com/auth/yt-analytics.readonly',\n",
    "                        'https://www.googleapis.com/auth/youtubepartner',\n",
    "                        'https://www.googleapis.com/auth/yt-analytics-monetary.readonly']\n",
    "            )\n",
    "            flow.run_local_server(\n",
    "                port=8080, prompt='consent', authorization_prompt_message=''\n",
    "            )\n",
    "            credentials = flow.credentials\n",
    "            # save the credentials for the next run\n",
    "            with open('token.pickle', 'wb') as f:\n",
    "                print('Saving Credentials for Future Use...')\n",
    "                pickle.dump(credentials, f)\n",
    "        return(credentials)\n",
    "\n",
    "# function to pull back channel metrics via youtube analytics api\n",
    "def channel_data_pull(channels):\n",
    "    with build('youtubeAnalytics', 'v2', credentials=credentials) as service:\n",
    "        request = service.reports().query(\n",
    "            startDate=\"2021-01-01\",\n",
    "            endDate=\"2021-12-31\",\n",
    "            dimensions=\"channel\",\n",
    "            filters=f\"channel=={channels}\",\n",
    "            ids=\"contentOwner==YbGWGCIUCoaUePqGy_acMw\",\n",
    "            maxResults=200,\n",
    "            metrics=\"views,estimatedMinutesWatched,subscribersGained,comments,likes,dislikes\",  \n",
    "            sort=\"-views\"\n",
    "        )\n",
    "    response = request.execute()\n",
    "    return(response)\n",
    "\n",
    "# function to process youtube analytics api response\n",
    "def create_df_from_youtube_analytics_api_response(youtube_api_response):\n",
    "    columns = []\n",
    "    for i in youtube_api_response.get('columnHeaders'):\n",
    "        columns.append(i.get('name'))\n",
    "    return(pd.DataFrame(youtube_api_response.get('rows'), columns=columns))\n",
    "\n",
    "# function to pull back channel statistics via youtube data api\n",
    "def channel_subscriber_pull(channelid):\n",
    "    with build('youtube', 'v3', credentials=credentials) as service:\n",
    "        request = service.channels().list(\n",
    "            part='statistics',\n",
    "            id=f\"{channelid}\",\n",
    "            onBehalfOfContentOwner='YbGWGCIUCoaUePqGy_acMw',\n",
    "            maxResults=50,\n",
    "        )\n",
    "    response = request.execute()\n",
    "    return(response)\n",
    "\n",
    "# function to process youtube data api response and create output file\n",
    "def channel_subscriber_process(channel_subscriber_response):\n",
    "    for i in channel_subscriber_response.get('items'):\n",
    "        channel_subscriber_list.append((i.get('id'), i.get('statistics').get('subscriberCount')))\n",
    "    channel_subscriber_df = pd.DataFrame(channel_subscriber_list, columns = ['channel_id', 'total_subscribers'])\n",
    "    channel_subscriber_df.to_csv('output/channel-subscriber-df.csv', index=False)"
   ]
  },
  {
   "cell_type": "code",
   "execution_count": 4,
   "id": "3025dda5",
   "metadata": {},
   "outputs": [],
   "source": [
    "# create empty list that's later populated by channel subscriber process function\n",
    "# create empty dataframe that's later populated by channel analytics process function\n",
    "channel_subscriber_list = []\n",
    "youtube_analytics_df = pd.DataFrame()"
   ]
  },
  {
   "cell_type": "code",
   "execution_count": 5,
   "id": "ebe2fc94",
   "metadata": {
    "scrolled": true
   },
   "outputs": [
    {
     "name": "stdout",
     "output_type": "stream",
     "text": [
      "Loading Credentials From File...\n",
      "Refreshing Access Token..\n"
     ]
    }
   ],
   "source": [
    "# run youtube api credentials authorization function \n",
    "credentials=youtube_authorization()"
   ]
  },
  {
   "cell_type": "code",
   "execution_count": 6,
   "id": "221277f5",
   "metadata": {},
   "outputs": [
    {
     "name": "stderr",
     "output_type": "stream",
     "text": [
      "/opt/anaconda3/lib/python3.9/site-packages/snowflake/sqlalchemy/snowdialect.py:206: SAWarning: Dialect snowflake:snowflake will not make use of SQL compilation caching as it does not set the 'supports_statement_cache' attribute to ``True``.  This can have significant performance implications including some performance degradations in comparison to prior SQLAlchemy versions.  Dialect maintainers should seek to set this attribute to True after appropriate development and testing for SQLAlchemy 1.4 caching support.   Alternatively, this attribute may be set to False which will disable this warning. (Background on this error at: https://sqlalche.me/e/14/cprf)\n",
      "  results = connection.execute(\n"
     ]
    }
   ],
   "source": [
    "# import full channel data set and clean up\n",
    "# pull in connection string to connect to snowflake\n",
    "# create file with passwords so I don't have to incorporate into python script\n",
    "config = configparser.ConfigParser()\n",
    "config.read('/Users/john.mccormack/Documents/Coding/Python/license_files/passwords.ini')\n",
    "connection_string = config['snowflake']['connection_string']\n",
    "# create engine with sqlalchemy to connect to snowflake\n",
    "# registry.register('snowflake', 'snowflake.sqlalchemy', 'dialect')\n",
    "engine = create_engine(connection_string, connect_args={'authenticator': 'https://wmg.okta.com/',})\n",
    "# call snowflake to get back central channel list\n",
    "channel_list_raw = pd.read_sql(f\"\"\"SELECT * FROM BDMO_SANDBOX.SCOTT_M.YT_CENTRAL_CHANNEL_LIST\"\"\", engine)"
   ]
  },
  {
   "cell_type": "code",
   "execution_count": 8,
   "id": "83bf16de",
   "metadata": {
    "scrolled": true
   },
   "outputs": [],
   "source": [
    "# create filtered version of channel list keeping channels linked before 2021-01-01 to ensure available data\n",
    "channel_list_raw_date = channel_list_raw[channel_list_raw['linked_date'] < \"2021-01-01\"]"
   ]
  },
  {
   "cell_type": "code",
   "execution_count": 9,
   "id": "788a0e95",
   "metadata": {},
   "outputs": [],
   "source": [
    "# create clean version of channel list keeping only channel id, public name, and genre columns\n",
    "channel_list_clean = channel_list_raw_date[['channel_id', 'public_name', 'genre']]"
   ]
  },
  {
   "cell_type": "code",
   "execution_count": 10,
   "id": "b558ccf1",
   "metadata": {},
   "outputs": [],
   "source": [
    "# drop any rows containing null values in channel list\n",
    "channel_list_clean = channel_list_clean.dropna()"
   ]
  },
  {
   "cell_type": "code",
   "execution_count": 11,
   "id": "9cfac2a9",
   "metadata": {},
   "outputs": [],
   "source": [
    "# convert genre column values to lower case to account for inconsistent genre text\n",
    "# channel data set includes different variations of what is essentially the same genre. for example, you might have channels classified as urban, hip-hop, hip hop without a hyphen, rap, US rap, etc. \n",
    "channel_list_clean['genre'] = channel_list_clean['genre'].str.lower()"
   ]
  },
  {
   "cell_type": "code",
   "execution_count": 12,
   "id": "a2692e0d",
   "metadata": {},
   "outputs": [],
   "source": [
    "# create filter for genre column in order to only keep the below genre values\n",
    "genre_filter = channel_list_clean['genre'].isin(['pop','rock', 'urban', 'latin', 'country', 'metal', 'dance'])\n",
    "channel_list_filtered = channel_list_clean[genre_filter]"
   ]
  },
  {
   "cell_type": "code",
   "execution_count": 13,
   "id": "a4193648",
   "metadata": {},
   "outputs": [],
   "source": [
    "# pull a randomized sample of 500 channels from channel list\n",
    "channel_list_filtered_sample = channel_list_filtered.sample(n=500)"
   ]
  },
  {
   "cell_type": "code",
   "execution_count": 14,
   "id": "adece0be",
   "metadata": {},
   "outputs": [
    {
     "data": {
      "text/plain": [
       "pop        187\n",
       "rock       129\n",
       "urban       78\n",
       "dance       40\n",
       "metal       26\n",
       "country     23\n",
       "latin       17\n",
       "Name: genre, dtype: int64"
      ]
     },
     "execution_count": 14,
     "metadata": {},
     "output_type": "execute_result"
    }
   ],
   "source": [
    "# look at value counts for genre column across randomized set of 500 channels\n",
    "channel_list_filtered_sample['genre'].value_counts()"
   ]
  },
  {
   "cell_type": "code",
   "execution_count": null,
   "id": "2e39b718",
   "metadata": {},
   "outputs": [],
   "source": [
    "# export out channel_list_filtered_sample as csv to make sure channel sample remains the same for data analysis\n",
    "channel_list_filtered_sample.to_csv('output/channel-list-df.csv', index=False)"
   ]
  },
  {
   "cell_type": "code",
   "execution_count": null,
   "id": "77c39699",
   "metadata": {},
   "outputs": [],
   "source": [
    "# read in channel_list_filtered_sample df csv\n",
    "channel_list_filtered_sample= pd.read_csv('output/channel-list-df.csv')"
   ]
  },
  {
   "cell_type": "code",
   "execution_count": 16,
   "id": "71a8de95",
   "metadata": {},
   "outputs": [],
   "source": [
    "# create a list of values from channel_id column for api calls\n",
    "channel_ids = channel_list_filtered_sample['channel_id'].tolist()"
   ]
  },
  {
   "cell_type": "code",
   "execution_count": 17,
   "id": "5ffc9680",
   "metadata": {},
   "outputs": [],
   "source": [
    "# create grouping to account for youtube api result maxes \n",
    "channel_id_grouping = [channel_ids[x:x+50] for x in range(0, len(channel_ids), 50)]"
   ]
  },
  {
   "cell_type": "code",
   "execution_count": 18,
   "id": "6bf1124a",
   "metadata": {},
   "outputs": [],
   "source": [
    "# process youtube data api call response\n",
    "for channels in channel_id_grouping:\n",
    "    channel_group_string = \",\".join(channels)\n",
    "    channel_subscriber_response = channel_subscriber_pull(channel_group_string)\n",
    "    channel_subscriber_process(channel_subscriber_response)"
   ]
  },
  {
   "cell_type": "code",
   "execution_count": 19,
   "id": "22bad5c8",
   "metadata": {},
   "outputs": [],
   "source": [
    "# export out channel_susbcriber_df as csv\n",
    "channel_subscriber_df= pd.read_csv('output/channel-subscriber-df.csv')"
   ]
  },
  {
   "cell_type": "code",
   "execution_count": 20,
   "id": "04c0465c",
   "metadata": {},
   "outputs": [],
   "source": [
    "# process youtube analytics api call response\n",
    "for channels in channel_id_grouping:\n",
    "    channel_group_string = \",\".join(channels)\n",
    "    channel_data_response = channel_data_pull(channel_group_string)\n",
    "    channel_info_df = create_df_from_youtube_analytics_api_response(channel_data_response)\n",
    "    youtube_analytics_df = pd.concat([youtube_analytics_df,channel_info_df],axis=0)"
   ]
  },
  {
   "cell_type": "code",
   "execution_count": 21,
   "id": "ead81496",
   "metadata": {},
   "outputs": [],
   "source": [
    "# rename channel column in channel_info_df to \"channel_id\" to merge with channel_subscriber_df\n",
    "youtube_analytics_df = youtube_analytics_df.rename(columns={'channel':'channel_id'})"
   ]
  },
  {
   "cell_type": "code",
   "execution_count": 22,
   "id": "9d1b8532",
   "metadata": {},
   "outputs": [],
   "source": [
    "# export out youtube_analytics_df as csv\n",
    "youtube_analytics_df.to_csv('output/youtube-analytics-df.csv', index=False)"
   ]
  },
  {
   "cell_type": "code",
   "execution_count": 23,
   "id": "c3d6e188",
   "metadata": {},
   "outputs": [],
   "source": [
    "# merge channel_list_filtered_sample dataframe, channel_subscriber_df, and channel_info_df on \"channel_id\"\n",
    "full_api_data = pd.merge(channel_list_filtered_sample, youtube_analytics_df, on='channel_id', how = \"left\")\n",
    "full_api_data_merge = pd.merge(full_api_data, channel_subscriber_df, on='channel_id', how = \"left\")"
   ]
  },
  {
   "cell_type": "markdown",
   "id": "fdc14a51",
   "metadata": {},
   "source": [
    "## Data Manipulation and Analysis"
   ]
  },
  {
   "cell_type": "markdown",
   "id": "084868ea",
   "metadata": {},
   "source": [
    "Objectives:\n",
    "\n",
    "- Add new columnns for views/subscriber and likes vs. dislikes metrics to account for variance in channel size across channel sample data set\n",
    "- Create buckets for genre, subscriber size, and combined genre/subscriber size groupby dataframes\n",
    "- Perform data analysis to pull out trends and insights using genre and subscriber size bucketing"
   ]
  },
  {
   "cell_type": "code",
   "execution_count": 24,
   "id": "627d49a8",
   "metadata": {},
   "outputs": [],
   "source": [
    "# add columns to calculate views/subscribers and likes/dislikes metrics\n",
    "full_api_data_merge['views_subs'] = full_api_data_merge['views'] / full_api_data_merge['subscribersGained']\n",
    "full_api_data_merge['likes_dislikes'] = full_api_data_merge['likes'] / full_api_data_merge['dislikes']"
   ]
  },
  {
   "cell_type": "code",
   "execution_count": 260,
   "id": "19d5febf",
   "metadata": {
    "scrolled": true
   },
   "outputs": [],
   "source": [
    "# replace inf and nan values with 0's\n",
    "full_api_data_merge.replace([np.inf, -np.inf], np.nan, inplace=True)\n",
    "full_api_data_merge['views_subs'] = full_api_data_merge['views_subs'].fillna(0)\n",
    "full_api_data_merge['likes_dislikes'] = full_api_data_merge['likes_dislikes'].fillna(0)"
   ]
  },
  {
   "cell_type": "code",
   "execution_count": 26,
   "id": "cc23ac11",
   "metadata": {},
   "outputs": [],
   "source": [
    "# export out full api data merge as csv\n",
    "full_api_data_merge.to_csv('output/full-api-data-merge-df.csv', index=False)"
   ]
  },
  {
   "cell_type": "code",
   "execution_count": 68,
   "id": "9babcef8",
   "metadata": {},
   "outputs": [
    {
     "data": {
      "text/plain": [
       "22800000"
      ]
     },
     "execution_count": 68,
     "metadata": {},
     "output_type": "execute_result"
    }
   ],
   "source": [
    "# check channel total subscribers max to create bucket max\n",
    "full_api_data_merge['total_subscribers'].max()"
   ]
  },
  {
   "cell_type": "code",
   "execution_count": 28,
   "id": "08a9f098",
   "metadata": {},
   "outputs": [],
   "source": [
    "# create subscriber bins and labels for subscriber buckets and apply to full_data_api_merge dataframe\n",
    "bins = [0,10000,100000,500000,1000000,10000000, 50000000]\n",
    "labels = ['0-10,000', '10,001-100,000', '100,001-500,000', '500,001-1,000,000', '1,000,001-10,000,000','10,000,001-50,000,000']\n",
    "full_api_data_merge['subscriber_bucket'] = pd.cut(full_api_data_merge['total_subscribers'],bins,labels=labels)"
   ]
  },
  {
   "cell_type": "code",
   "execution_count": 227,
   "id": "8818dd9f",
   "metadata": {},
   "outputs": [
    {
     "data": {
      "text/html": [
       "<div>\n",
       "<style scoped>\n",
       "    .dataframe tbody tr th:only-of-type {\n",
       "        vertical-align: middle;\n",
       "    }\n",
       "\n",
       "    .dataframe tbody tr th {\n",
       "        vertical-align: top;\n",
       "    }\n",
       "\n",
       "    .dataframe thead th {\n",
       "        text-align: right;\n",
       "    }\n",
       "</style>\n",
       "<table border=\"1\" class=\"dataframe\">\n",
       "  <thead>\n",
       "    <tr style=\"text-align: right;\">\n",
       "      <th></th>\n",
       "      <th>channel_id</th>\n",
       "      <th>public_name</th>\n",
       "      <th>genre</th>\n",
       "      <th>views</th>\n",
       "      <th>estimatedMinutesWatched</th>\n",
       "      <th>subscribersGained</th>\n",
       "      <th>comments</th>\n",
       "      <th>likes</th>\n",
       "      <th>dislikes</th>\n",
       "      <th>total_subscribers</th>\n",
       "      <th>views_subs</th>\n",
       "      <th>likes_dislikes</th>\n",
       "      <th>subscriber_bucket</th>\n",
       "    </tr>\n",
       "  </thead>\n",
       "  <tbody>\n",
       "    <tr>\n",
       "      <th>0</th>\n",
       "      <td>UCvpHzqdDr1zvtaW8BaVegzw</td>\n",
       "      <td>oficialzodiacs</td>\n",
       "      <td>rock</td>\n",
       "      <td>16.0</td>\n",
       "      <td>2.500000e+01</td>\n",
       "      <td>3.0</td>\n",
       "      <td>0.0</td>\n",
       "      <td>0.0</td>\n",
       "      <td>0.0</td>\n",
       "      <td>22</td>\n",
       "      <td>5.333333</td>\n",
       "      <td>0.000000</td>\n",
       "      <td>0-10,000</td>\n",
       "    </tr>\n",
       "    <tr>\n",
       "      <th>1</th>\n",
       "      <td>UCYXCt3TYSfZHgxjXUVN8wTA</td>\n",
       "      <td>JXN</td>\n",
       "      <td>pop</td>\n",
       "      <td>9571.0</td>\n",
       "      <td>1.712400e+04</td>\n",
       "      <td>665.0</td>\n",
       "      <td>10.0</td>\n",
       "      <td>238.0</td>\n",
       "      <td>11.0</td>\n",
       "      <td>9380</td>\n",
       "      <td>14.392481</td>\n",
       "      <td>21.636364</td>\n",
       "      <td>0-10,000</td>\n",
       "    </tr>\n",
       "    <tr>\n",
       "      <th>2</th>\n",
       "      <td>UChOQUXRRV04p9nDJmfuX9pA</td>\n",
       "      <td>Navet</td>\n",
       "      <td>dance</td>\n",
       "      <td>285.0</td>\n",
       "      <td>3.810000e+02</td>\n",
       "      <td>1.0</td>\n",
       "      <td>0.0</td>\n",
       "      <td>5.0</td>\n",
       "      <td>0.0</td>\n",
       "      <td>28</td>\n",
       "      <td>285.000000</td>\n",
       "      <td>0.000000</td>\n",
       "      <td>0-10,000</td>\n",
       "    </tr>\n",
       "    <tr>\n",
       "      <th>3</th>\n",
       "      <td>UCHpttVC36T04Tt6CFTk04xg</td>\n",
       "      <td>chiodos</td>\n",
       "      <td>metal</td>\n",
       "      <td>4808.0</td>\n",
       "      <td>4.914000e+03</td>\n",
       "      <td>4435.0</td>\n",
       "      <td>9.0</td>\n",
       "      <td>84.0</td>\n",
       "      <td>4.0</td>\n",
       "      <td>31100</td>\n",
       "      <td>1.084104</td>\n",
       "      <td>21.000000</td>\n",
       "      <td>10,001-100,000</td>\n",
       "    </tr>\n",
       "    <tr>\n",
       "      <th>4</th>\n",
       "      <td>UCnSR7_Oq-MdsZxfogsfk-Ug</td>\n",
       "      <td>Tommy Boy</td>\n",
       "      <td>urban</td>\n",
       "      <td>522052670.0</td>\n",
       "      <td>1.463708e+09</td>\n",
       "      <td>677196.0</td>\n",
       "      <td>137116.0</td>\n",
       "      <td>5014420.0</td>\n",
       "      <td>151296.0</td>\n",
       "      <td>1970000</td>\n",
       "      <td>770.903357</td>\n",
       "      <td>33.143110</td>\n",
       "      <td>1,000,001-10,000,000</td>\n",
       "    </tr>\n",
       "  </tbody>\n",
       "</table>\n",
       "</div>"
      ],
      "text/plain": [
       "                 channel_id     public_name  genre        views  \\\n",
       "0  UCvpHzqdDr1zvtaW8BaVegzw  oficialzodiacs   rock         16.0   \n",
       "1  UCYXCt3TYSfZHgxjXUVN8wTA             JXN    pop       9571.0   \n",
       "2  UChOQUXRRV04p9nDJmfuX9pA           Navet  dance        285.0   \n",
       "3  UCHpttVC36T04Tt6CFTk04xg         chiodos  metal       4808.0   \n",
       "4  UCnSR7_Oq-MdsZxfogsfk-Ug       Tommy Boy  urban  522052670.0   \n",
       "\n",
       "   estimatedMinutesWatched  subscribersGained  comments      likes  dislikes  \\\n",
       "0             2.500000e+01                3.0       0.0        0.0       0.0   \n",
       "1             1.712400e+04              665.0      10.0      238.0      11.0   \n",
       "2             3.810000e+02                1.0       0.0        5.0       0.0   \n",
       "3             4.914000e+03             4435.0       9.0       84.0       4.0   \n",
       "4             1.463708e+09           677196.0  137116.0  5014420.0  151296.0   \n",
       "\n",
       "   total_subscribers  views_subs  likes_dislikes     subscriber_bucket  \n",
       "0                 22    5.333333        0.000000              0-10,000  \n",
       "1               9380   14.392481       21.636364              0-10,000  \n",
       "2                 28  285.000000        0.000000              0-10,000  \n",
       "3              31100    1.084104       21.000000        10,001-100,000  \n",
       "4            1970000  770.903357       33.143110  1,000,001-10,000,000  "
      ]
     },
     "execution_count": 227,
     "metadata": {},
     "output_type": "execute_result"
    }
   ],
   "source": [
    "# check if subscriber buckets were properly applied\n",
    "full_api_data_merge.head()"
   ]
  },
  {
   "cell_type": "code",
   "execution_count": 231,
   "id": "dd9c412a",
   "metadata": {},
   "outputs": [],
   "source": [
    "# create individual groupby genre and subscriber bucket dataframes adding in channel_id count column\n",
    "genre_groupby_df = full_api_data_merge.groupby(['genre']).agg({'channel_id': 'count','views': 'sum','estimatedMinutesWatched': 'sum','total_subscribers': 'sum','subscribersGained': 'sum','comments': 'sum','likes': 'sum','dislikes': 'sum','views_subs': 'mean','likes_dislikes': 'mean'})\n",
    "subscriber_groupby_df = full_api_data_merge.groupby(['subscriber_bucket']).agg({'channel_id': 'count','views': 'sum','estimatedMinutesWatched': 'sum','total_subscribers': 'sum','subscribersGained': 'sum','comments': 'sum','likes': 'sum','dislikes': 'sum','views_subs': 'mean','likes_dislikes': 'mean'})"
   ]
  },
  {
   "cell_type": "code",
   "execution_count": 232,
   "id": "a3431e24",
   "metadata": {},
   "outputs": [],
   "source": [
    "# create combined groupby genre and subscriber bucket dataframe adding in channel_id count column and replacing nan vlues with 0's\n",
    "genre_subscriber_bucket_groupby_df = full_api_data_merge.groupby(['genre','subscriber_bucket']).agg({'channel_id': 'count','views': 'sum','estimatedMinutesWatched': 'sum','total_subscribers': 'sum','subscribersGained': 'sum','comments': 'sum','likes': 'sum','dislikes': 'sum','views_subs': 'mean','likes_dislikes': 'mean'})\n",
    "genre_subscriber_bucket_groupby_df['views_subs'] = genre_subscriber_bucket_groupby_df['views_subs'].fillna(0)\n",
    "genre_subscriber_bucket_groupby_df['likes_dislikes'] = genre_subscriber_bucket_groupby_df['likes_dislikes'].fillna(0)"
   ]
  },
  {
   "cell_type": "code",
   "execution_count": null,
   "id": "3cbbe983",
   "metadata": {},
   "outputs": [],
   "source": [
    "# check various groupby comparisons\n",
    "genre_groupby_df\n",
    "subscriber_groupby_df\n",
    "genre_subscriber_bucket_groupby_df.head()"
   ]
  },
  {
   "cell_type": "markdown",
   "id": "ac1f570e",
   "metadata": {},
   "source": [
    "# Data Visualization"
   ]
  },
  {
   "cell_type": "markdown",
   "id": "79f7e05c",
   "metadata": {},
   "source": [
    "Objectives:\n",
    "\n",
    "- Plot graphs highlighting insights from data analysis\n",
    "- Example graphs include: \n",
    "    - Distribution of channels in sample data set by genre\n",
    "    - Distribution of channels in sample data set by subscriber size\n",
    "    - Views/subscriber and likes vs. dislikes comparison by genre"
   ]
  },
  {
   "cell_type": "code",
   "execution_count": 257,
   "id": "af3cbb04",
   "metadata": {
    "scrolled": false
   },
   "outputs": [
    {
     "data": {
      "image/png": "[encoded data removed]",
      "text/plain": [
       "<Figure size 864x576 with 1 Axes>"
      ]
     },
     "metadata": {
      "needs_background": "light"
     },
     "output_type": "display_data"
    }
   ],
   "source": [
    "# plot bar graph highlighting distribution of channels in channel sample by genre\n",
    "\n",
    "full_api_data_merge['genre'].value_counts().sort_index().plot(\n",
    "    kind='bar', \n",
    "    color=['darkgoldenrod', 'royalblue', 'red', 'black', 'orange', 'green', 'purple'],\n",
    "    figsize=(12, 8)\n",
    ")\n",
    "plt.xlabel('Genre', size =16)\n",
    "plt.ylabel('Number Of Channels', size = 16)\n",
    "plt.title('Distribution Of Channels By Genre', loc='left', size = 22)\n",
    "plt.xticks(rotation=45);\n",
    "plt.savefig('output/channel-distribution-by-genre-graph.png', dpi=192)"
   ]
  },
  {
   "cell_type": "markdown",
   "id": "a3b94928",
   "metadata": {},
   "source": [
    "## Insights"
   ]
  },
  {
   "cell_type": "markdown",
   "id": "47301b97",
   "metadata": {},
   "source": [
    "- The above bar graph gives you a visual representation of the distribution of channels within the sample set by genre.\n",
    "- Pop genre channels comprise the largest proportion of the randomized sample, followed by Rock and then Urban channels. \n",
    "- Overall, I think this is a fairly close representation of the network at-large, though I do think that Urban, for example, would skew higher if not for the multiple genre values challenge I mentioned earlier."
   ]
  },
  {
   "cell_type": "code",
   "execution_count": 258,
   "id": "ae992f11",
   "metadata": {},
   "outputs": [
    {
     "data": {
      "image/png": "[encoded data removed]",
      "text/plain": [
       "<Figure size 864x576 with 1 Axes>"
      ]
     },
     "metadata": {
      "needs_background": "light"
     },
     "output_type": "display_data"
    }
   ],
   "source": [
    "# plot bar graph highlighting distribution of channels in channel sample by subscriber size\n",
    "\n",
    "full_api_data_merge['subscriber_bucket'].value_counts().sort_index().plot(\n",
    "    kind='bar', \n",
    "    color=['orange','green','purple', 'darkgoldenrod', 'royalblue', 'black'],\n",
    "    figsize=(12, 8)\n",
    ")\n",
    "plt.xlabel('Subscriber Bucket', size = 16)\n",
    "plt.ylabel('Number Of Channels', size = 16)\n",
    "plt.title('Distribution Of Channels By Subscriber Bucket', loc='left', size=22)\n",
    "plt.xticks(rotation=45);\n",
    "plt.savefig('output/channel-distribution-by-subscriber-bucket-graph.png', dpi=192)"
   ]
  },
  {
   "cell_type": "markdown",
   "id": "ed808584",
   "metadata": {},
   "source": [
    "## Insights"
   ]
  },
  {
   "cell_type": "markdown",
   "id": "b4fb5f41",
   "metadata": {},
   "source": [
    "- The above bar graph gives you a visual representation of the distribution of channels within the sample set by subscriber size.\n",
    "- The higher you go up in size like the 1-10M and 10-50M buckets, you’re naturally going to be looking at a smaller group of channels. \n",
    "- Overall, I think this is a fairly close representation of the network at-large, though I do think that the 0-10,000 subscriber bucket might not skew quite as high at a network level. "
   ]
  },
  {
   "cell_type": "code",
   "execution_count": 267,
   "id": "5a8355a4",
   "metadata": {},
   "outputs": [
    {
     "data": {
      "image/png": "[encoded data removed]",
      "text/plain": [
       "<Figure size 864x576 with 1 Axes>"
      ]
     },
     "metadata": {
      "needs_background": "light"
     },
     "output_type": "display_data"
    }
   ],
   "source": [
    "# plot scatter highlighting relationship between views per subscriber added and likes vs. dislikes ratio by genre\n",
    "\n",
    "fig, ax = plt.subplots()\n",
    "\n",
    "colors = {'country':'darkgoldenrod', 'dance':'royalblue', 'latin':'red', 'metal':'black', 'pop':'orange', \n",
    "          'rock': 'green', 'urban': 'purple'}\n",
    "\n",
    "genre_comp = genre_groupby_df.groupby('genre')\n",
    "for key, group in genre_comp:\n",
    "    group.plot(ax=ax, kind='scatter', s = 'channel_id', x='likes_dislikes', y='views_subs', \n",
    "    label=key, color=colors[key], figsize=(12, 8))\n",
    "\n",
    "plt.title('Viewer Engagement Action Comparison By Genre',size = 22, loc = 'left')\n",
    "plt.xlabel('Likes vs. Dislikes', size = 16)\n",
    "plt.ylabel('Views Per Subscriber Gained', size = 16) \n",
    "plt.savefig('output/viewspersub-likesvsdislikes-genre-graph.png', dpi=192)\n",
    "plt.show()"
   ]
  },
  {
   "cell_type": "markdown",
   "id": "daa4d7e4",
   "metadata": {},
   "source": [
    "## Insights"
   ]
  },
  {
   "cell_type": "markdown",
   "id": "786b6cea",
   "metadata": {},
   "source": [
    "\n",
    "- This graph shows you a comparison of the two calculated performance metrics I added - views per subscriber gained and likes vs. dislikes ratio – both by genre.\n",
    "\n",
    "- Views per subscriber added is the number of views it takes for the channel to add a subscriber. Ideally, you want this figure to be low as it would indicate that the channel is good at converting casual viewers to subscribers. \n",
    "\n",
    "- Likes vs. dislikes ratio is simply the ratio between viewer likes and dislikes on the channel’s content. Ideally, you want this figure to be high as it would indicate that viewers are liking what they are seeing at a much higher rate than they are disliking or thumbs downing it. \n",
    "\n",
    "- Overall, I think the expected relationship would be something like the genre dots following a diagonal trend line from top left to bottom right. If you’re getting more likes, then, on the surface, it would take fewer views for the channel to add a subscriber. Conversely, if you’re getting more dislikes, then it would take more views to add a subscriber. However, that’s not really the relationship we’re seeing across the genre buckets within the channel sample.\n",
    "\n",
    "- Pop, which comprises the highest proportion of channels in the sample, has a very high likes vs. dislikes ratio, but an average views per subscriber gained figure, which makes sense. In general, pop videos tend to see a high volume of views overall on YouTube, but those views tend to be very general in nature. Pop videos, particularly really popular ones, tend to be surfaced in areas on YouTube that a very broad, more casual audience would traffic, and I think that this dynamic is playing out in the Pop genre channels needing more views to convert a viewer to a subscriber.\n",
    "\n",
    "- If you look at some of the more niche genres like Metal and Country, they both have very low views per subscriber added figures, which I think speaks to the fact that, though they tend to have smaller audiences, the bond between fan and artist or channel and within their respective communities tends to be stronger, resulting in a better views per subscribers added value than a genre like Pop.\n",
    "\n",
    "- More specifically, the Country genre has both a low views per subscriber added figure (which you want to be low) and a low likes vs. dislikes ratio (which you want to be high), which I think might speak to a tendency on the part Country music fans to subscribe to a channel as a first positive viewer action in comparison to liking a video. \n",
    "\n",
    "- The last thing I want to quickly highlight is around the Metal genre, which, among the 7 genres represented in the channel sample, outperforms in both metrics. It has not only a very high likes vs. dislikes ratio, but also a very low views per subscriber added value. I’d like to perform this analysis across all of the metal channels within the network to see if the trend holds overall, but it’s very impressive.\n"
   ]
  }
 ],
 "metadata": {
  "kernelspec": {
   "display_name": "Python 3 (ipykernel)",
   "language": "python",
   "name": "python3"
  },
  "language_info": {
   "codemirror_mode": {
    "name": "ipython",
    "version": 3
   },
   "file_extension": ".py",
   "mimetype": "text/x-python",
   "name": "python",
   "nbconvert_exporter": "python",
   "pygments_lexer": "ipython3",
   "version": "3.9.7"
  }
 },
 "nbformat": 4,
 "nbformat_minor": 5
}
